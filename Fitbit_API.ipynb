{
 "cells": [
  {
   "cell_type": "markdown",
   "metadata": {},
   "source": [
    "## Get Data"
   ]
  },
  {
   "cell_type": "code",
   "execution_count": 22,
   "metadata": {},
   "outputs": [],
   "source": [
    "%matplotlib inline\n",
    "import matplotlib.pyplot as plt\n",
    "import fitbit\n",
    "import json\n",
    "import requests\n",
    "import time\n",
    "from pprint import pprint\n",
    "\n",
    "# gather_keys_oauth2.py file needs to be in the same directory. \n",
    "# also needs to install cherrypy: https://pypi.org/project/CherryPy/\n",
    "# pip install CherryPy\n",
    "import gather_keys_oauth2 as Oauth2\n",
    "import pandas as pd \n",
    "import datetime\n",
    "\n",
    "\n",
    "\n",
    "# YOU NEED TO PUT IN YOUR OWN CLIENT_ID AND CLIENT_SECRET\n",
    "CLIENT_ID='23948W'\n",
    "CLIENT_SECRET='250a5113354c041785901ff347416bcf'"
   ]
  },
  {
   "cell_type": "markdown",
   "metadata": {},
   "source": [
    "## API Authorization"
   ]
  },
  {
   "cell_type": "code",
   "execution_count": 119,
   "metadata": {},
   "outputs": [
    {
     "name": "stderr",
     "output_type": "stream",
     "text": [
      "[15/Jan/2023:02:51:12] ENGINE Listening for SIGTERM.\n",
      "[15/Jan/2023:02:51:12] ENGINE Bus STARTING\n",
      "[15/Jan/2023:02:51:12] ENGINE Set handler for console events.\n",
      "[15/Jan/2023:02:51:12] ENGINE Started monitor thread 'Autoreloader'.\n",
      "[15/Jan/2023:02:51:13] ENGINE Serving on http://127.0.0.1:8080\n",
      "[15/Jan/2023:02:51:13] ENGINE Bus STARTED\n"
     ]
    },
    {
     "name": "stdout",
     "output_type": "stream",
     "text": [
      "127.0.0.1 - - [15/Jan/2023:02:51:27] \"GET /?code=092610bc2d2b958130d31379e5c6422c9ba65aeb&state=6onfMHq1eJg4o4SsJqW8Zv8h42TLLj HTTP/1.1\" 200 122 \"\" \"Mozilla/5.0 (Windows NT 10.0; Win64; x64) AppleWebKit/537.36 (KHTML, like Gecko) Chrome/108.0.0.0 Safari/537.36 Edg/108.0.1462.76\"\n",
      "127.0.0.1 - - [15/Jan/2023:02:51:27] \"GET /favicon.ico HTTP/1.1\" 200 1406 \"http://127.0.0.1:8080/?code=092610bc2d2b958130d31379e5c6422c9ba65aeb&state=6onfMHq1eJg4o4SsJqW8Zv8h42TLLj\" \"Mozilla/5.0 (Windows NT 10.0; Win64; x64) AppleWebKit/537.36 (KHTML, like Gecko) Chrome/108.0.0.0 Safari/537.36 Edg/108.0.1462.76\"\n"
     ]
    },
    {
     "name": "stderr",
     "output_type": "stream",
     "text": [
      "[15/Jan/2023:02:51:28] ENGINE Bus STOPPING\n",
      "[15/Jan/2023:02:51:29] ENGINE HTTP Server cherrypy._cpwsgi_server.CPWSGIServer(('127.0.0.1', 8080)) shut down\n",
      "[15/Jan/2023:02:51:29] ENGINE Stopped thread 'Autoreloader'.\n",
      "[15/Jan/2023:02:51:29] ENGINE Removed handler for console events.\n",
      "[15/Jan/2023:02:51:29] ENGINE Bus STOPPED\n",
      "[15/Jan/2023:02:51:29] ENGINE Bus EXITING\n",
      "[15/Jan/2023:02:51:29] ENGINE Waiting for child threads to terminate...\n",
      "[15/Jan/2023:02:51:29] ENGINE Bus EXITED\n",
      "[15/Jan/2023:02:51:29] ENGINE Waiting for thread Thread-380.\n"
     ]
    }
   ],
   "source": [
    "server=Oauth2.OAuth2Server(CLIENT_ID, CLIENT_SECRET)\n",
    "server.browser_authorize()\n",
    "ACCESS_TOKEN=str(server.fitbit.client.session.token['access_token'])\n",
    "REFRESH_TOKEN=str(server.fitbit.client.session.token['refresh_token'])\n",
    "auth2_client=fitbit.Fitbit(CLIENT_ID,CLIENT_SECRET,oauth2=True,access_token=ACCESS_TOKEN,refresh_token=REFRESH_TOKEN)"
   ]
  },
  {
   "cell_type": "markdown",
   "metadata": {},
   "source": [
    "## 5a.) Get One day of Data"
   ]
  },
  {
   "cell_type": "code",
   "execution_count": 4,
   "metadata": {},
   "outputs": [
    {
     "name": "stderr",
     "output_type": "stream",
     "text": [
      "C:\\Users\\sunny\\AppData\\Local\\Temp\\ipykernel_32416\\2096318665.py:3: FutureWarning: The pandas.datetime class is deprecated and will be removed from pandas in a future version. Import from datetime module instead.\n",
      "  oneDate = pd.datetime(year = 2022, month = 11, day = 13)\n"
     ]
    }
   ],
   "source": [
    "# You will have to modify this \n",
    "# depending on when you started to use a fitbit\n",
    "oneDate = pd.datetime(year = 2022, month = 11, day = 13)"
   ]
  },
  {
   "cell_type": "code",
   "execution_count": 3,
   "metadata": {},
   "outputs": [
    {
     "name": "stdout",
     "output_type": "stream",
     "text": [
      "Help on method intraday_time_series in module fitbit.api:\n",
      "\n",
      "intraday_time_series(resource, base_date='today', detail_level='1min', start_time=None, end_time=None) method of fitbit.api.Fitbit instance\n",
      "    The intraday time series extends the functionality of the regular time series, but returning data at a\n",
      "    more granular level for a single day, defaulting to 1 minute intervals. To access this feature, one must\n",
      "    fill out the Private Support form here (see https://dev.fitbit.com/docs/help/).\n",
      "    For details on the resources available and more information on how to get access, see:\n",
      "    \n",
      "    https://dev.fitbit.com/docs/activity/#get-activity-intraday-time-series\n",
      "\n"
     ]
    }
   ],
   "source": [
    "help(auth2_client.intraday_time_series)"
   ]
  },
  {
   "cell_type": "code",
   "execution_count": 93,
   "metadata": {},
   "outputs": [
    {
     "name": "stderr",
     "output_type": "stream",
     "text": [
      "C:\\Users\\sunny\\AppData\\Local\\Temp\\ipykernel_32416\\3393413633.py:9: FutureWarning: The pandas.datetime class is deprecated and will be removed from pandas in a future version. Import from datetime module instead.\n",
      "  base_date=pd.datetime(year = 2023, month = 1, day = 11),\n"
     ]
    }
   ],
   "source": [
    "oneDayData = auth2_client.intraday_time_series('activities/heart',\n",
    "                                               base_date=oneDate,\n",
    "                                               detail_level='1min')\n",
    "oneDayData\n",
    "devices = auth2_client.get_devices()\n",
    "sleepData = auth2_client.get_sleep(oneDate)\n",
    "\n",
    "oneDayData2 = auth2_client.intraday_time_series('activities/heart',\n",
    "                                               base_date=pd.datetime(year = 2023, month = 1, day = 11),\n",
    "                                               detail_level='1min')\n",
    "                                               \n",
    "logactivity = auth2_client.activities(date = oneDate)\n"
   ]
  },
  {
   "cell_type": "code",
   "execution_count": 79,
   "metadata": {},
   "outputs": [
    {
     "name": "stdout",
     "output_type": "stream",
     "text": [
      "[{'battery': 'Medium', 'batteryLevel': 37, 'deviceVersion': 'Inspire 2', 'features': [], 'id': '2136767686', 'lastSyncTime': '2023-01-14T23:31:33.000', 'mac': '9EBC34CD76FE', 'type': 'TRACKER'}, {'deviceVersion': 'Aria Air', 'features': [], 'id': 'F-31-A4C138B1ED92', 'type': 'SCALE'}]\n"
     ]
    }
   ],
   "source": [
    "#print(oneDayData)\n",
    "print(devices)\n",
    "#print(oneDayData2)\n",
    "\n",
    "####THIS CODE CHUNK GETS HEART RATE DATA MINUTE BY MINUTE#####\n",
    "time_list = []\n",
    "val_list = []\n",
    "for i in oneDayData2['activities-heart-intraday']['dataset']:\n",
    "    val_list.append(i['value'])\n",
    "    time_list.append(i['time'])\n",
    "heartdf = pd.DataFrame({'Heart Rate':val_list,'Time':time_list})\n",
    "#logactivity\n",
    "\n",
    "heartdf\n",
    "\n",
    "heartdf.to_csv('C:/Users/sunny/Documents/1-Work/Extracurricular/stanford/Participant Information/firsttest.csv', \n",
    "               columns=['Time','Heart Rate'], header=True, \\\n",
    "               index = False)"
   ]
  },
  {
   "cell_type": "code",
   "execution_count": 120,
   "metadata": {},
   "outputs": [
    {
     "name": "stdout",
     "output_type": "stream",
     "text": [
      "wear percent: 0.02361111111111111\n",
      "2022-12-01\n",
      "wear percent: 0.6666666666666666\n",
      "2022-12-02\n",
      "wear percent: 0.9638888888888889\n",
      "2022-12-03\n",
      "wear percent: 0.9736111111111111\n",
      "2022-12-04\n",
      "wear percent: 0.37430555555555556\n",
      "2022-12-05\n",
      "wear percent: 0.0\n",
      "2022-12-06\n",
      "wear percent: 0.4701388888888889\n",
      "2022-12-07\n",
      "wear percent: 0.39444444444444443\n",
      "2022-12-08\n",
      "wear percent: 0.0\n",
      "2022-12-09\n",
      "wear percent: 0.0\n",
      "2022-12-10\n",
      "wear percent: 0.0\n",
      "2022-12-11\n",
      "wear percent: 0.0\n",
      "2022-12-12\n",
      "wear percent: 0.0\n",
      "2022-12-13\n",
      "wear percent: 0.0\n",
      "2022-12-14\n",
      "wear percent: 0.0\n",
      "2022-12-15\n"
     ]
    }
   ],
   "source": [
    "#heartdf\n",
    "\n",
    "#column = heartdf['Heart Rate']\n",
    "\n",
    "#print(column[column > 20].count())\n",
    "\n",
    "#wearPercent = (column[column > 20].count())/1440\n",
    "#print(wearPercent)\n",
    "\n",
    "\n",
    "start_lookdate = datetime.date(2022, 12, 1)\n",
    "end_lookdate = datetime.date(2022,12,15)\n",
    "delta = datetime.timedelta(days=1)\n",
    "wearList = []\n",
    "dateList = []\n",
    "wearPercent = 0\n",
    "\n",
    "\n",
    "while (start_lookdate <= end_lookdate):\n",
    "    heartAPI = auth2_client.intraday_time_series('activities/heart',\n",
    "                                               base_date=start_lookdate,\n",
    "                                               detail_level='1min')\n",
    "\n",
    "    time_list = []\n",
    "    val_list = []\n",
    "    for i in heartAPI['activities-heart-intraday']['dataset']:\n",
    "        val_list.append(i['value'])\n",
    "        time_list.append(i['time'])\n",
    "    heartdf = pd.DataFrame({'Heart Rate':val_list,'Time':time_list})\n",
    "    #logactivity\n",
    "    column = heartdf['Heart Rate']\n",
    "    \n",
    "    wearPercent = (column[column > 20].count())/1440\n",
    "    print(\"wear percent: \" + str(wearPercent))\n",
    "    \n",
    "    dateList.append(start_lookdate.strftime(\"%m/%d/%Y\"))\n",
    "    wearList.append(wearPercent)\n",
    "    #list.append(wearPercent)\n",
    "    \n",
    "    #heartRate[start_lookdate.strftime(\"%d\")] = wearPercent\n",
    "    newDate = None\n",
    "    print(start_lookdate)\n",
    "    #print(start_lookdate.strftime(\"%m/%d/%Y\"))\n",
    "    #heartRate\n",
    "    #df.loc[len(df)] = list\n",
    "    start_lookdate += delta\n",
    "\n",
    "\n",
    "heartRate = pd.DataFrame({'Date': dateList, 'WearPercent': wearList})\n"
   ]
  },
  {
   "cell_type": "code",
   "execution_count": 121,
   "metadata": {},
   "outputs": [
    {
     "data": {
      "text/html": [
       "<div>\n",
       "<style scoped>\n",
       "    .dataframe tbody tr th:only-of-type {\n",
       "        vertical-align: middle;\n",
       "    }\n",
       "\n",
       "    .dataframe tbody tr th {\n",
       "        vertical-align: top;\n",
       "    }\n",
       "\n",
       "    .dataframe thead th {\n",
       "        text-align: right;\n",
       "    }\n",
       "</style>\n",
       "<table border=\"1\" class=\"dataframe\">\n",
       "  <thead>\n",
       "    <tr style=\"text-align: right;\">\n",
       "      <th></th>\n",
       "      <th>Date</th>\n",
       "      <th>WearPercent</th>\n",
       "    </tr>\n",
       "  </thead>\n",
       "  <tbody>\n",
       "    <tr>\n",
       "      <th>0</th>\n",
       "      <td>12/01/2022</td>\n",
       "      <td>0.023611</td>\n",
       "    </tr>\n",
       "    <tr>\n",
       "      <th>1</th>\n",
       "      <td>12/02/2022</td>\n",
       "      <td>0.666667</td>\n",
       "    </tr>\n",
       "    <tr>\n",
       "      <th>2</th>\n",
       "      <td>12/03/2022</td>\n",
       "      <td>0.963889</td>\n",
       "    </tr>\n",
       "    <tr>\n",
       "      <th>3</th>\n",
       "      <td>12/04/2022</td>\n",
       "      <td>0.973611</td>\n",
       "    </tr>\n",
       "    <tr>\n",
       "      <th>4</th>\n",
       "      <td>12/05/2022</td>\n",
       "      <td>0.374306</td>\n",
       "    </tr>\n",
       "    <tr>\n",
       "      <th>5</th>\n",
       "      <td>12/06/2022</td>\n",
       "      <td>0.000000</td>\n",
       "    </tr>\n",
       "    <tr>\n",
       "      <th>6</th>\n",
       "      <td>12/07/2022</td>\n",
       "      <td>0.470139</td>\n",
       "    </tr>\n",
       "    <tr>\n",
       "      <th>7</th>\n",
       "      <td>12/08/2022</td>\n",
       "      <td>0.394444</td>\n",
       "    </tr>\n",
       "    <tr>\n",
       "      <th>8</th>\n",
       "      <td>12/09/2022</td>\n",
       "      <td>0.000000</td>\n",
       "    </tr>\n",
       "    <tr>\n",
       "      <th>9</th>\n",
       "      <td>12/10/2022</td>\n",
       "      <td>0.000000</td>\n",
       "    </tr>\n",
       "    <tr>\n",
       "      <th>10</th>\n",
       "      <td>12/11/2022</td>\n",
       "      <td>0.000000</td>\n",
       "    </tr>\n",
       "    <tr>\n",
       "      <th>11</th>\n",
       "      <td>12/12/2022</td>\n",
       "      <td>0.000000</td>\n",
       "    </tr>\n",
       "    <tr>\n",
       "      <th>12</th>\n",
       "      <td>12/13/2022</td>\n",
       "      <td>0.000000</td>\n",
       "    </tr>\n",
       "    <tr>\n",
       "      <th>13</th>\n",
       "      <td>12/14/2022</td>\n",
       "      <td>0.000000</td>\n",
       "    </tr>\n",
       "    <tr>\n",
       "      <th>14</th>\n",
       "      <td>12/15/2022</td>\n",
       "      <td>0.000000</td>\n",
       "    </tr>\n",
       "  </tbody>\n",
       "</table>\n",
       "</div>"
      ],
      "text/plain": [
       "          Date  WearPercent\n",
       "0   12/01/2022     0.023611\n",
       "1   12/02/2022     0.666667\n",
       "2   12/03/2022     0.963889\n",
       "3   12/04/2022     0.973611\n",
       "4   12/05/2022     0.374306\n",
       "5   12/06/2022     0.000000\n",
       "6   12/07/2022     0.470139\n",
       "7   12/08/2022     0.394444\n",
       "8   12/09/2022     0.000000\n",
       "9   12/10/2022     0.000000\n",
       "10  12/11/2022     0.000000\n",
       "11  12/12/2022     0.000000\n",
       "12  12/13/2022     0.000000\n",
       "13  12/14/2022     0.000000\n",
       "14  12/15/2022     0.000000"
      ]
     },
     "execution_count": 121,
     "metadata": {},
     "output_type": "execute_result"
    }
   ],
   "source": [
    "heartRate"
   ]
  },
  {
   "cell_type": "code",
   "execution_count": null,
   "metadata": {},
   "outputs": [],
   "source": [
    "type(logactivity)\n",
    "#not needed code in this section\n",
    "oneDate = pd.datetime(year = 2022, month = 11, day = 13)\n",
    "\n",
    "df = pd.DataFrame(columns=['Date', 'activityCalories', 'caloriesBMR', 'caloriesOut', 'fairlyActiveMins', 'lightlyActiveMins', 'veryActiveMins', 'sedentaryMins', 'steps', 'sleep'])\n",
    "\n",
    "if True:\n",
    "    for i in range(1,20, 1):\n",
    "        newDate = pd.datetime(year= 2022, month = 11, day = i)\n",
    "        logactivity = auth2_client.activities(date = newDate)\n",
    "        sleepData = auth2_client.get_sleep(newDate)\n",
    "        list = []\n",
    "        list.append(newDate.strftime('%m/%d/%Y'))\n",
    "        list.append(logactivity['summary']['activityCalories'])\n",
    "        list.append(logactivity['summary']['caloriesBMR'])\n",
    "        list.append(logactivity['summary']['caloriesOut'])\n",
    "        list.append(logactivity['summary']['fairlyActiveMinutes'])\n",
    "        list.append(logactivity['summary']['lightlyActiveMinutes'])\n",
    "        list.append(logactivity['summary']['veryActiveMinutes'])\n",
    "        list.append(logactivity['summary']['sedentaryMinutes'])\n",
    "        list.append(logactivity['summary']['steps'])\n",
    "        list.append(sleepData['summary']['totalMinutesAsleep'])\n",
    "        newDate = None\n",
    "        print(i)\n",
    "        df.loc[len(df)] = list\n",
    "\n",
    "#type(oneDate)\n",
    "\n",
    "\n"
   ]
  },
  {
   "cell_type": "code",
   "execution_count": 103,
   "metadata": {},
   "outputs": [],
   "source": [
    "df\n",
    "df.to_csv('first_test_case.csv', index=True)"
   ]
  },
  {
   "cell_type": "code",
   "execution_count": 13,
   "metadata": {},
   "outputs": [
    {
     "name": "stdout",
     "output_type": "stream",
     "text": [
      "2022-12-01\n",
      "2022-12-02\n",
      "2022-12-03\n",
      "2022-12-04\n",
      "2022-12-05\n",
      "2022-12-06\n",
      "2022-12-07\n",
      "2022-12-08\n",
      "2022-12-09\n",
      "2022-12-10\n",
      "2022-12-11\n",
      "2022-12-12\n",
      "2022-12-13\n",
      "2022-12-14\n",
      "2022-12-15\n"
     ]
    }
   ],
   "source": [
    "# Look at the first 5 rows of the pandas DataFrame\n",
    "df = pd.DataFrame(columns=['Date', 'activityCalories', 'caloriesBMR', 'caloriesOut', 'fairlyActiveMins', 'lightlyActiveMins', 'veryActiveMins', 'sedentaryMins', 'steps', 'sleep'])\n",
    "start_lookdate = datetime.date(2022, 12, 1)\n",
    "end_lookdate = datetime.date(2022,12,15)\n",
    "delta = datetime.timedelta(days=1)\n",
    "while (start_lookdate <= end_lookdate):\n",
    "    logactivity = auth2_client.activities(date = start_lookdate)\n",
    "    sleepData = auth2_client.get_sleep(start_lookdate)\n",
    "    list = []\n",
    "    list.append(start_lookdate.strftime('%m/%d/%Y'))\n",
    "    list.append(logactivity['summary']['activityCalories'])\n",
    "    list.append(logactivity['summary']['caloriesBMR'])\n",
    "    list.append(logactivity['summary']['caloriesOut'])\n",
    "    list.append(logactivity['summary']['fairlyActiveMinutes'])\n",
    "    list.append(logactivity['summary']['lightlyActiveMinutes'])\n",
    "    list.append(logactivity['summary']['veryActiveMinutes'])\n",
    "    list.append(logactivity['summary']['sedentaryMinutes'])\n",
    "    list.append(logactivity['summary']['steps'])\n",
    "    list.append(sleepData['summary']['totalMinutesAsleep'])\n",
    "    newDate = None\n",
    "    print(start_lookdate)\n",
    "    df.loc[len(df)] = list\n",
    "    start_lookdate += delta\n",
    "\n",
    "df.to_csv('first_test_case.csv', index=True)"
   ]
  },
  {
   "cell_type": "code",
   "execution_count": 4,
   "metadata": {},
   "outputs": [
    {
     "data": {
      "text/html": [
       "<div>\n",
       "<style scoped>\n",
       "    .dataframe tbody tr th:only-of-type {\n",
       "        vertical-align: middle;\n",
       "    }\n",
       "\n",
       "    .dataframe tbody tr th {\n",
       "        vertical-align: top;\n",
       "    }\n",
       "\n",
       "    .dataframe thead th {\n",
       "        text-align: right;\n",
       "    }\n",
       "</style>\n",
       "<table border=\"1\" class=\"dataframe\">\n",
       "  <thead>\n",
       "    <tr style=\"text-align: right;\">\n",
       "      <th></th>\n",
       "      <th>Date</th>\n",
       "      <th>activityCalories</th>\n",
       "      <th>caloriesBMR</th>\n",
       "      <th>caloriesOut</th>\n",
       "      <th>fairlyActiveMins</th>\n",
       "      <th>lightlyActiveMins</th>\n",
       "      <th>veryActiveMins</th>\n",
       "      <th>sedentaryMins</th>\n",
       "      <th>steps</th>\n",
       "      <th>sleep</th>\n",
       "    </tr>\n",
       "  </thead>\n",
       "  <tbody>\n",
       "    <tr>\n",
       "      <th>0</th>\n",
       "      <td>12/03/2022</td>\n",
       "      <td>497</td>\n",
       "      <td>1246</td>\n",
       "      <td>1579</td>\n",
       "      <td>26</td>\n",
       "      <td>158</td>\n",
       "      <td>8</td>\n",
       "      <td>1248</td>\n",
       "      <td>4041</td>\n",
       "      <td>0</td>\n",
       "    </tr>\n",
       "    <tr>\n",
       "      <th>1</th>\n",
       "      <td>12/04/2022</td>\n",
       "      <td>37</td>\n",
       "      <td>1246</td>\n",
       "      <td>1268</td>\n",
       "      <td>0</td>\n",
       "      <td>18</td>\n",
       "      <td>0</td>\n",
       "      <td>1422</td>\n",
       "      <td>43</td>\n",
       "      <td>0</td>\n",
       "    </tr>\n",
       "    <tr>\n",
       "      <th>2</th>\n",
       "      <td>12/05/2022</td>\n",
       "      <td>288</td>\n",
       "      <td>1246</td>\n",
       "      <td>1449</td>\n",
       "      <td>7</td>\n",
       "      <td>92</td>\n",
       "      <td>0</td>\n",
       "      <td>1341</td>\n",
       "      <td>3509</td>\n",
       "      <td>0</td>\n",
       "    </tr>\n",
       "    <tr>\n",
       "      <th>3</th>\n",
       "      <td>12/06/2022</td>\n",
       "      <td>206</td>\n",
       "      <td>1246</td>\n",
       "      <td>1398</td>\n",
       "      <td>0</td>\n",
       "      <td>64</td>\n",
       "      <td>0</td>\n",
       "      <td>1376</td>\n",
       "      <td>2807</td>\n",
       "      <td>0</td>\n",
       "    </tr>\n",
       "    <tr>\n",
       "      <th>4</th>\n",
       "      <td>12/07/2022</td>\n",
       "      <td>419</td>\n",
       "      <td>1246</td>\n",
       "      <td>1566</td>\n",
       "      <td>5</td>\n",
       "      <td>92</td>\n",
       "      <td>19</td>\n",
       "      <td>1324</td>\n",
       "      <td>6174</td>\n",
       "      <td>0</td>\n",
       "    </tr>\n",
       "    <tr>\n",
       "      <th>5</th>\n",
       "      <td>12/08/2022</td>\n",
       "      <td>176</td>\n",
       "      <td>1246</td>\n",
       "      <td>1370</td>\n",
       "      <td>0</td>\n",
       "      <td>63</td>\n",
       "      <td>0</td>\n",
       "      <td>1377</td>\n",
       "      <td>2144</td>\n",
       "      <td>0</td>\n",
       "    </tr>\n",
       "    <tr>\n",
       "      <th>6</th>\n",
       "      <td>12/09/2022</td>\n",
       "      <td>132</td>\n",
       "      <td>1246</td>\n",
       "      <td>1337</td>\n",
       "      <td>4</td>\n",
       "      <td>41</td>\n",
       "      <td>4</td>\n",
       "      <td>1391</td>\n",
       "      <td>1587</td>\n",
       "      <td>0</td>\n",
       "    </tr>\n",
       "  </tbody>\n",
       "</table>\n",
       "</div>"
      ],
      "text/plain": [
       "         Date  activityCalories  caloriesBMR  caloriesOut  fairlyActiveMins  \\\n",
       "0  12/03/2022               497         1246         1579                26   \n",
       "1  12/04/2022                37         1246         1268                 0   \n",
       "2  12/05/2022               288         1246         1449                 7   \n",
       "3  12/06/2022               206         1246         1398                 0   \n",
       "4  12/07/2022               419         1246         1566                 5   \n",
       "5  12/08/2022               176         1246         1370                 0   \n",
       "6  12/09/2022               132         1246         1337                 4   \n",
       "\n",
       "   lightlyActiveMins  veryActiveMins  sedentaryMins  steps  sleep  \n",
       "0                158               8           1248   4041      0  \n",
       "1                 18               0           1422     43      0  \n",
       "2                 92               0           1341   3509      0  \n",
       "3                 64               0           1376   2807      0  \n",
       "4                 92              19           1324   6174      0  \n",
       "5                 63               0           1377   2144      0  \n",
       "6                 41               4           1391   1587      0  "
      ]
     },
     "execution_count": 4,
     "metadata": {},
     "output_type": "execute_result"
    }
   ],
   "source": [
    "df"
   ]
  },
  {
   "cell_type": "code",
   "execution_count": 8,
   "metadata": {},
   "outputs": [
    {
     "ename": "TypeError",
     "evalue": "list indices must be integers or slices, not str",
     "output_type": "error",
     "traceback": [
      "\u001b[1;31m---------------------------------------------------------------------------\u001b[0m",
      "\u001b[1;31mTypeError\u001b[0m                                 Traceback (most recent call last)",
      "Cell \u001b[1;32mIn[8], line 4\u001b[0m\n\u001b[0;32m      2\u001b[0m time_list \u001b[39m=\u001b[39m []\n\u001b[0;32m      3\u001b[0m val_list \u001b[39m=\u001b[39m []\n\u001b[1;32m----> 4\u001b[0m \u001b[39mfor\u001b[39;00m i \u001b[39min\u001b[39;00m fit_statsHR[\u001b[39m'\u001b[39;49m\u001b[39mactivities-heart\u001b[39;49m\u001b[39m'\u001b[39;49m][\u001b[39m'\u001b[39;49m\u001b[39mdataset\u001b[39;49m\u001b[39m'\u001b[39;49m]:\n\u001b[0;32m      5\u001b[0m     val_list\u001b[39m.\u001b[39mappend(i[\u001b[39m'\u001b[39m\u001b[39mvalue\u001b[39m\u001b[39m'\u001b[39m])\n\u001b[0;32m      6\u001b[0m     time_list\u001b[39m.\u001b[39mappend(i[\u001b[39m'\u001b[39m\u001b[39mtime\u001b[39m\u001b[39m'\u001b[39m])\n",
      "\u001b[1;31mTypeError\u001b[0m: list indices must be integers or slices, not str"
     ]
    }
   ],
   "source": [
    "\n",
    "fit_statsHR = auth2_client.intraday_time_series('activities/heart', base_date=datetime.date(2022, 12, 1), detail_level='1min')\n",
    "time_list = []\n",
    "val_list = []\n",
    "for i in fit_statsHR['activities-heart']['dataset']:\n",
    "    val_list.append(i['value'])\n",
    "    time_list.append(i['time'])\n",
    "heartdf = pd.DataFrame({'Heart Rate':val_list,'Time':time_list})\n"
   ]
  },
  {
   "cell_type": "code",
   "execution_count": 54,
   "metadata": {},
   "outputs": [
    {
     "ename": "KeyError",
     "evalue": "'activities-heart-intraday'",
     "output_type": "error",
     "traceback": [
      "\u001b[1;31m---------------------------------------------------------------------------\u001b[0m",
      "\u001b[1;31mKeyError\u001b[0m                                  Traceback (most recent call last)",
      "Cell \u001b[1;32mIn[54], line 5\u001b[0m\n\u001b[0;32m      1\u001b[0m \u001b[39m#auth2_client.heart(date = datetime.date(2022, 12, 1), data = )\u001b[39;00m\n\u001b[0;32m      3\u001b[0m HR_request \u001b[39m=\u001b[39m requests\u001b[39m.\u001b[39mget(\u001b[39m'\u001b[39m\u001b[39mhttps://api.fitbit.com/1/user/\u001b[39m\u001b[39m'\u001b[39m \u001b[39m+\u001b[39m CLIENT_ID \u001b[39m+\u001b[39m \u001b[39m'\u001b[39m\u001b[39m/activities/heart/date/2023-12-1/1d/1min/time/00:01/23:55.json\u001b[39m\u001b[39m'\u001b[39m, headers \u001b[39m=\u001b[39m {\u001b[39m'\u001b[39m\u001b[39mAuthorization\u001b[39m\u001b[39m'\u001b[39m: \u001b[39m'\u001b[39m\u001b[39mBearer \u001b[39m\u001b[39m'\u001b[39m \u001b[39m+\u001b[39m ACCESS_TOKEN})\n\u001b[1;32m----> 5\u001b[0m pprint(HR_request\u001b[39m.\u001b[39;49mjson()[\u001b[39m'\u001b[39;49m\u001b[39mactivities-heart-intraday\u001b[39;49m\u001b[39m'\u001b[39;49m][\u001b[39m'\u001b[39m\u001b[39mdataset\u001b[39m\u001b[39m'\u001b[39m])\n\u001b[0;32m      6\u001b[0m hr2req \u001b[39m=\u001b[39m requests\u001b[39m.\u001b[39mget(\u001b[39m'\u001b[39m\u001b[39mhttps://api.fitbit.com/1/user/\u001b[39m\u001b[39m'\u001b[39m \u001b[39m+\u001b[39m CLIENT_ID \u001b[39m+\u001b[39m \u001b[39m'\u001b[39m\u001b[39m/activities/heart/date/2022-12-1/1d/1min.json\u001b[39m\u001b[39m'\u001b[39m, headers \u001b[39m=\u001b[39m {\u001b[39m'\u001b[39m\u001b[39mAuthorization\u001b[39m\u001b[39m'\u001b[39m: \u001b[39m'\u001b[39m\u001b[39mBearer \u001b[39m\u001b[39m'\u001b[39m \u001b[39m+\u001b[39m ACCESS_TOKEN})\n\u001b[0;32m      8\u001b[0m hr2req\n",
      "\u001b[1;31mKeyError\u001b[0m: 'activities-heart-intraday'"
     ]
    }
   ],
   "source": [
    "#auth2_client.heart(date = datetime.date(2022, 12, 1), data = )\n",
    "\n",
    "HR_request = requests.get('https://api.fitbit.com/1/user/' + CLIENT_ID + '/activities/heart/date/2023-12-1/1d/1min/time/00:01/23:55.json', headers = {'Authorization': 'Bearer ' + ACCESS_TOKEN})\n",
    "\n",
    "pprint(HR_request.json()['activities-heart-intraday']['dataset'])\n",
    "hr2req = requests.get('https://api.fitbit.com/1/user/' + CLIENT_ID + '/activities/heart/date/2022-12-1/1d/1min.json', headers = {'Authorization': 'Bearer ' + ACCESS_TOKEN})\n",
    "\n",
    "hr2req"
   ]
  },
  {
   "cell_type": "code",
   "execution_count": 51,
   "metadata": {},
   "outputs": [
    {
     "data": {
      "text/plain": [
       "{'activities': [],\n",
       " 'summary': {'activeScore': -1,\n",
       "  'activityCalories': 32,\n",
       "  'caloriesBMR': 1246,\n",
       "  'caloriesOut': 1542,\n",
       "  'distances': [{'activity': 'total', 'distance': 3.57},\n",
       "   {'activity': 'tracker', 'distance': 3.57},\n",
       "   {'activity': 'loggedActivities', 'distance': 0},\n",
       "   {'activity': 'veryActive', 'distance': 0},\n",
       "   {'activity': 'moderatelyActive', 'distance': 0},\n",
       "   {'activity': 'lightlyActive', 'distance': 0.11},\n",
       "   {'activity': 'sedentaryActive', 'distance': 0}],\n",
       "  'fairlyActiveMinutes': 0,\n",
       "  'lightlyActiveMinutes': 15,\n",
       "  'marginalCalories': 7,\n",
       "  'sedentaryMinutes': 1425,\n",
       "  'steps': 8906,\n",
       "  'veryActiveMinutes': 0}}"
      ]
     },
     "execution_count": 51,
     "metadata": {},
     "output_type": "execute_result"
    }
   ],
   "source": [
    "#pprint(HR_request.json()['activities-heart-intraday']['dataset'])\n",
    "\n",
    "fit_statsHR = auth2_client.intraday_time_series('activities/heart', base_date=datetime.date(2023, 1, 10), detail_level='1min')\n",
    "df = pd.DataFrame(fit_statsHR['activities-heart-intraday']['dataset'])\n",
    "heartrate = auth2_client.intraday_time_series('activities/heart', base_date = datetime.date(2022, 12, 1), detail_level = '1min')\n",
    "df\n",
    "#heartrate = auth2_client.heart(date = str((datetime.datetime.now() - datetime.timedelta(days=1)).strftime(\"%Y-%m-%d\")))\n",
    "heartrate2 = auth2_client.activities(datetime.date(2022, 12, 1))\n",
    "\n",
    "#fit_statsHR"
   ]
  },
  {
   "cell_type": "code",
   "execution_count": null,
   "metadata": {},
   "outputs": [],
   "source": [
    "# The first part gets a date in a string format of YYYY-MM-DD\n",
    "filename = oneDayData['activities-heart'][0]['dateTime'] +'_intradata'\n",
    "\n",
    "# Export file to csv\n",
    "df.to_csv(filename + '.csv', index = False)\n",
    "df.to_excel(filename + '.xlsx', index = False)"
   ]
  },
  {
   "cell_type": "markdown",
   "metadata": {},
   "source": [
    "## ## 5b.) Get Multiple Days of Data"
   ]
  },
  {
   "cell_type": "code",
   "execution_count": null,
   "metadata": {},
   "outputs": [],
   "source": [
    "# startTime is first date of data that I want. \n",
    "# You will need to modify for the date you want your data to start\n",
    "startTime = pd.datetime(year = 2019, month = 11, day = 27)\n",
    "endTime = pd.datetime.today().date() - datetime.timedelta(days=1)"
   ]
  },
  {
   "cell_type": "code",
   "execution_count": null,
   "metadata": {},
   "outputs": [],
   "source": [
    "date_list = []\n",
    "df_list = []\n",
    "allDates = pd.date_range(start=startTime, end = endTime)\n",
    "\n",
    "for oneDate in allDates:\n",
    "    \n",
    "    oneDate = oneDate.date().strftime(\"%Y-%m-%d\")\n",
    "    \n",
    "    oneDayData = auth2_client.intraday_time_series('activities/heart', base_date=oneDate, detail_level='1sec')\n",
    "\n",
    "    df = pd.DataFrame(oneDayData['activities-heart-intraday']['dataset'])\n",
    "    \n",
    "    date_list.append(oneDate)\n",
    "    \n",
    "    df_list.append(df)\n",
    "    \n",
    "final_df_list = []\n",
    "\n",
    "for date, df in zip(date_list, df_list):\n",
    "\n",
    "    if len(df) == 0:\n",
    "        continue\n",
    "    \n",
    "    df.loc[:, 'date'] = pd.to_datetime(date)\n",
    "    \n",
    "    final_df_list.append(df)\n",
    "\n",
    "final_df = pd.concat(final_df_list, axis = 0)"
   ]
  },
  {
   "cell_type": "code",
   "execution_count": null,
   "metadata": {},
   "outputs": [],
   "source": [
    "## Optional Making of the data have more detailed timestamp (day and hour instead of day)\n",
    "hoursDelta = pd.to_datetime(final_df.loc[:, 'time']).dt.hour.apply(lambda x: datetime.timedelta(hours = x))\n",
    "minutesDelta = pd.to_datetime(final_df.loc[:, 'time']).dt.minute.apply(lambda x: datetime.timedelta(minutes = x))\n",
    "secondsDelta = pd.to_datetime(final_df.loc[:, 'time']).dt.second.apply(lambda x: datetime.timedelta(seconds = x))\n",
    "\n",
    "# Getting the date to also have the time of the day\n",
    "final_df['date'] = final_df['date'] + hoursDelta + minutesDelta + secondsDelta"
   ]
  },
  {
   "cell_type": "code",
   "execution_count": null,
   "metadata": {},
   "outputs": [],
   "source": [
    "final_df.tail()"
   ]
  },
  {
   "cell_type": "code",
   "execution_count": null,
   "metadata": {},
   "outputs": [],
   "source": [
    "filename = 'all_intradata'\n",
    "final_df.to_csv(filename + '.csv', index = False)"
   ]
  },
  {
   "cell_type": "markdown",
   "metadata": {},
   "source": [
    "## 6.) Try to Graph Intraday Data"
   ]
  },
  {
   "cell_type": "code",
   "execution_count": null,
   "metadata": {},
   "outputs": [],
   "source": [
    "# this is bad as time is duplicated over many days fixing the date column will fix the problem\n",
    "final_df.plot('time', 'value')"
   ]
  },
  {
   "cell_type": "code",
   "execution_count": null,
   "metadata": {},
   "outputs": [],
   "source": [
    "# The code below is not efficient as I call to_datetime twice\n",
    "hoursDelta = pd.to_datetime(final_df.loc[:, 'time']).dt.hour.apply(lambda x: datetime.timedelta(hours = x))\n",
    "minutesDelta = pd.to_datetime(final_df.loc[:, 'time']).dt.minute.apply(lambda x: datetime.timedelta(minutes = x))\n",
    "secondsDelta = pd.to_datetime(final_df.loc[:, 'time']).dt.second.apply(lambda x: datetime.timedelta(seconds = x))\n"
   ]
  },
  {
   "cell_type": "code",
   "execution_count": null,
   "metadata": {},
   "outputs": [],
   "source": [
    "# Getting the date to also have the time of the day\n",
    "final_df['date'] = final_df['date'] + hoursDelta + minutesDelta + secondsDelta"
   ]
  },
  {
   "cell_type": "code",
   "execution_count": null,
   "metadata": {},
   "outputs": [],
   "source": [
    "#final_df['temp_value'] = final_df['value'] + random.randint(-2, 2)"
   ]
  },
  {
   "cell_type": "code",
   "execution_count": null,
   "metadata": {},
   "outputs": [],
   "source": [
    "# this fixed the problem.\n",
    "final_df.plot('date', 'value')\n",
    "plt.legend('')"
   ]
  },
  {
   "cell_type": "code",
   "execution_count": null,
   "metadata": {},
   "outputs": [],
   "source": [
    "## Looking at a couple days only. \n",
    "startDate = pd.datetime(year = 2019, month = 12, day = 24)\n",
    "lastDate = pd.datetime(year = 2019, month = 12, day = 27)\n",
    "\n",
    "coupledays_df = final_df.loc[final_df.loc[:, 'date'].between(startDate, lastDate), :]"
   ]
  },
  {
   "cell_type": "code",
   "execution_count": null,
   "metadata": {},
   "outputs": [],
   "source": [
    "coupledays_df"
   ]
  },
  {
   "cell_type": "code",
   "execution_count": null,
   "metadata": {},
   "outputs": [],
   "source": [
    "# Just checking the number of the rows \n",
    "coupledays_df.shape"
   ]
  },
  {
   "cell_type": "code",
   "execution_count": null,
   "metadata": {},
   "outputs": [],
   "source": [
    "coupledays_df.plot('date', 'value')\n",
    "plt.legend('')"
   ]
  },
  {
   "cell_type": "code",
   "execution_count": null,
   "metadata": {},
   "outputs": [],
   "source": [
    "fig, ax = plt.subplots(figsize=(10, 7))\n",
    "\n",
    "# Taken from: https://stackoverflow.com/questions/16266019/python-pandas-group-datetime-column-into-hour-and-minute-aggregations\n",
    "times = pd.to_datetime(coupledays_df['date'])\n",
    "coupledays_df.groupby([times.dt.date,times.dt.hour]).value.mean().plot(ax = ax)\n",
    "\n",
    "ax.grid(True,\n",
    "    axis = 'both',\n",
    "    zorder = 0,\n",
    "    linestyle = ':',\n",
    "    color = 'k')\n",
    "ax.tick_params(axis = 'both', rotation = 45, labelsize = 20)\n",
    "ax.set_xlabel('Date, Hour', fontsize = 24)\n",
    "ax.set_ylabel('Heart Rate', fontsize = 24)\n",
    "fig.tight_layout()\n",
    "fig.savefig('coupledaysavergedByMin.png', format = 'png', dpi = 300)"
   ]
  },
  {
   "cell_type": "markdown",
   "metadata": {},
   "source": [
    "## 7.) Resting Heart Rate"
   ]
  },
  {
   "cell_type": "code",
   "execution_count": 10,
   "metadata": {},
   "outputs": [
    {
     "name": "stderr",
     "output_type": "stream",
     "text": [
      "C:\\Users\\sunny\\AppData\\Local\\Temp\\ipykernel_36380\\2906094424.py:3: FutureWarning: The pandas.datetime class is deprecated and will be removed from pandas in a future version. Import from datetime module instead.\n",
      "  startTime = pd.datetime(year = 2022, month = 12, day = 1)\n",
      "C:\\Users\\sunny\\AppData\\Local\\Temp\\ipykernel_36380\\2906094424.py:4: FutureWarning: The pandas.datetime class is deprecated and will be removed from pandas in a future version. Import from datetime module instead.\n",
      "  endTime = pd.datetime.today().date() - datetime.timedelta(days=1)\n"
     ]
    }
   ],
   "source": [
    "# startTime is first date of data that I want. \n",
    "# You will need to modify for the date you want your data to start\n",
    "startTime = pd.datetime(year = 2022, month = 12, day = 1)\n",
    "endTime = pd.datetime.today().date() - datetime.timedelta(days=1)"
   ]
  },
  {
   "cell_type": "code",
   "execution_count": 11,
   "metadata": {},
   "outputs": [
    {
     "ename": "KeyError",
     "evalue": "'restingHeartRate'",
     "output_type": "error",
     "traceback": [
      "\u001b[1;31m---------------------------------------------------------------------------\u001b[0m",
      "\u001b[1;31mKeyError\u001b[0m                                  Traceback (most recent call last)",
      "Cell \u001b[1;32mIn[11], line 14\u001b[0m\n\u001b[0;32m     10\u001b[0m oneDayData \u001b[39m=\u001b[39m auth2_client\u001b[39m.\u001b[39mintraday_time_series(\u001b[39m'\u001b[39m\u001b[39mactivities/heart\u001b[39m\u001b[39m'\u001b[39m, base_date\u001b[39m=\u001b[39moneDate, detail_level\u001b[39m=\u001b[39m\u001b[39m'\u001b[39m\u001b[39m1sec\u001b[39m\u001b[39m'\u001b[39m)\n\u001b[0;32m     12\u001b[0m date_list\u001b[39m.\u001b[39mappend(oneDate)\n\u001b[1;32m---> 14\u001b[0m resting_list\u001b[39m.\u001b[39mappend(oneDayData[\u001b[39m'\u001b[39;49m\u001b[39mactivities-heart\u001b[39;49m\u001b[39m'\u001b[39;49m][\u001b[39m0\u001b[39;49m][\u001b[39m'\u001b[39;49m\u001b[39mvalue\u001b[39;49m\u001b[39m'\u001b[39;49m][\u001b[39m'\u001b[39;49m\u001b[39mrestingHeartRate\u001b[39;49m\u001b[39m'\u001b[39;49m])\n",
      "\u001b[1;31mKeyError\u001b[0m: 'restingHeartRate'"
     ]
    }
   ],
   "source": [
    "date_list = []\n",
    "resting_list = []\n",
    "\n",
    "allDates = pd.date_range(start=startTime, end = endTime)\n",
    "\n",
    "for oneDate in allDates:\n",
    "    \n",
    "    oneDate = oneDate.date().strftime(\"%Y-%m-%d\")\n",
    "    \n",
    "    oneDayData = auth2_client.intraday_time_series('activities/heart', base_date=oneDate, detail_level='1sec')\n",
    "    \n",
    "    date_list.append(oneDate)\n",
    "    \n",
    "    resting_list.append(oneDayData['activities-heart'][0]['value']['restingHeartRate'])"
   ]
  },
  {
   "cell_type": "code",
   "execution_count": null,
   "metadata": {},
   "outputs": [],
   "source": [
    "fig, ax = plt.subplots(figsize=(10, 7))\n",
    "\n",
    "ax.plot(date_list, resting_list )\n",
    "\n",
    "# This is just making it so there isnt a grid line or text for every point\n",
    "xtick_list = []\n",
    "xticklabel_list = []\n",
    "for index, label in enumerate(ax.get_xticklabels()):\n",
    "    if index % 5 == 0:\n",
    "        xticklabel_list.append(label)\n",
    "        xtick_list.append(index)\n",
    "\n",
    "ax.grid(True,\n",
    "    axis = 'both',\n",
    "    zorder = 0,\n",
    "    linestyle = ':',\n",
    "    color = 'k')\n",
    "ax.tick_params(axis = 'both', labelsize = 20)\n",
    "ax.set_xticks(xtick_list)\n",
    "ax.tick_params(axis = 'x', rotation = 90,labelsize = 20)\n",
    "ax.set_xlim(0, index)\n",
    "#ax.set_xticklabels(ax.get_xticklabels(),rotation = 45, rotation_mode=\"anchor\", ha = 'right')\n",
    "ax.set_xlabel('Date', fontsize = 24)\n",
    "ax.set_ylabel('Resting Heart Rate', fontsize = 24)\n",
    "fig.tight_layout()\n",
    "fig.savefig('restingHR_graph.png', format = 'png', dpi = 300)"
   ]
  },
  {
   "cell_type": "code",
   "execution_count": null,
   "metadata": {},
   "outputs": [],
   "source": [
    "resting_df = pd.DataFrame({'date': date_list, 'RHR': resting_list})"
   ]
  },
  {
   "cell_type": "code",
   "execution_count": null,
   "metadata": {},
   "outputs": [],
   "source": [
    "resting_df.head()"
   ]
  },
  {
   "cell_type": "markdown",
   "metadata": {},
   "source": [
    "## 8.) Get Sleep Data"
   ]
  },
  {
   "cell_type": "code",
   "execution_count": null,
   "metadata": {},
   "outputs": [],
   "source": [
    "startTime = pd.datetime(year = 2020, month = 1, day = 5)\n",
    "endTime = pd.datetime.today().date() - datetime.timedelta(days=1)"
   ]
  },
  {
   "cell_type": "code",
   "execution_count": null,
   "metadata": {},
   "outputs": [],
   "source": [
    "allDates = pd.date_range(start=startTime, end = endTime)"
   ]
  },
  {
   "cell_type": "code",
   "execution_count": null,
   "metadata": {},
   "outputs": [],
   "source": [
    "date_list = []\n",
    "df_list = []\n",
    "stages_df_list = []\n",
    "\n",
    "allDates = pd.date_range(start=startTime, end = endTime)\n",
    "\n",
    "for oneDate in allDates:\n",
    "    \n",
    "    oneDate = oneDate.date().strftime(\"%Y-%m-%d\")\n",
    "    \n",
    "    oneDayData = auth2_client.sleep(date=oneDate)\n",
    "    \n",
    "    # get number of minutes for each stage of sleep and such. \n",
    "    stages_df = pd.DataFrame(oneDayData['summary'])\n",
    "\n",
    "    df = pd.DataFrame(oneDayData['sleep'][0]['minuteData'])\n",
    "    \n",
    "    date_list.append(oneDate)\n",
    "    \n",
    "    df_list.append(df)\n",
    "    \n",
    "    stages_df_list.append(stages_df)\n",
    "    \n",
    "final_df_list = []\n",
    "\n",
    "final_stages_df_list = []\n",
    "\n",
    "for date, df, stages_df in zip(date_list, df_list, stages_df_list):\n",
    "\n",
    "    if len(df) == 0:\n",
    "        continue\n",
    "    \n",
    "    df.loc[:, 'date'] = pd.to_datetime(date)\n",
    "    \n",
    "    stages_df.loc[:, 'date'] = pd.to_datetime(date)\n",
    "    \n",
    "    final_df_list.append(df)\n",
    "    final_stages_df_list.append(stages_df)\n",
    "\n",
    "final_df = pd.concat(final_df_list, axis = 0)\n",
    "\n",
    "final_stages_df = pd.concat(final_stages_df_list, axis = 0)"
   ]
  },
  {
   "cell_type": "code",
   "execution_count": null,
   "metadata": {},
   "outputs": [],
   "source": [
    "columns = final_stages_df.columns[~final_stages_df.columns.isin(['date'])].values"
   ]
  },
  {
   "cell_type": "code",
   "execution_count": null,
   "metadata": {},
   "outputs": [],
   "source": [
    "columns"
   ]
  },
  {
   "cell_type": "code",
   "execution_count": null,
   "metadata": {},
   "outputs": [],
   "source": [
    "pd.concat([final_stages_df[columns] + 2, final_stages_df[['date']]], axis = 1)"
   ]
  },
  {
   "cell_type": "code",
   "execution_count": null,
   "metadata": {},
   "outputs": [],
   "source": [
    "\n",
    "# Export file to csv\n",
    "final_df.to_csv('minuteSleep' + '.csv', index = False)\n",
    "final_stages_df.to_csv('minutesStagesSleep' + '.csv', index = True)"
   ]
  }
 ],
 "metadata": {
  "kernelspec": {
   "display_name": "Python 3",
   "language": "python",
   "name": "python3"
  },
  "language_info": {
   "codemirror_mode": {
    "name": "ipython",
    "version": 3
   },
   "file_extension": ".py",
   "mimetype": "text/x-python",
   "name": "python",
   "nbconvert_exporter": "python",
   "pygments_lexer": "ipython3",
   "version": "3.11.0 (main, Oct 24 2022, 18:26:48) [MSC v.1933 64 bit (AMD64)]"
  },
  "vscode": {
   "interpreter": {
    "hash": "db35a02fd5d0ba4c5963f2cd8d92bdb63f7f3bde1f98582f1ef84023082d273b"
   }
  }
 },
 "nbformat": 4,
 "nbformat_minor": 2
}
